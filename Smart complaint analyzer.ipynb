{
 "cells": [
  {
   "cell_type": "code",
   "execution_count": 2,
   "id": "d528e37b",
   "metadata": {},
   "outputs": [],
   "source": [
    "import pandas as pd\n",
    "import numpy as np\n",
    "import re\n",
    "import nltk\n",
    "from nltk.corpus import stopwords\n",
    "from nltk.stem import WordNetLemmatizer\n",
    "from sklearn.preprocessing import LabelEncoder"
   ]
  },
  {
   "cell_type": "code",
   "execution_count": 3,
   "id": "e4a49ffb",
   "metadata": {},
   "outputs": [
    {
     "name": "stdout",
     "output_type": "stream",
     "text": [
      "   Unnamed: 0      id  Gender      Customer Type  Age   Type of Travel  \\\n",
      "0           0   70172    Male     Loyal Customer   13  Personal Travel   \n",
      "1           1    5047    Male  disloyal Customer   25  Business travel   \n",
      "2           2  110028  Female     Loyal Customer   26  Business travel   \n",
      "3           3   24026  Female     Loyal Customer   25  Business travel   \n",
      "4           4  119299    Male     Loyal Customer   61  Business travel   \n",
      "\n",
      "      Class  Flight Distance  Inflight wifi service  \\\n",
      "0  Eco Plus              460                      3   \n",
      "1  Business              235                      3   \n",
      "2  Business             1142                      2   \n",
      "3  Business              562                      2   \n",
      "4  Business              214                      3   \n",
      "\n",
      "   Departure/Arrival time convenient  ...  Inflight entertainment  \\\n",
      "0                                  4  ...                       5   \n",
      "1                                  2  ...                       1   \n",
      "2                                  2  ...                       5   \n",
      "3                                  5  ...                       2   \n",
      "4                                  3  ...                       3   \n",
      "\n",
      "   On-board service  Leg room service  Baggage handling  Checkin service  \\\n",
      "0                 4                 3                 4                4   \n",
      "1                 1                 5                 3                1   \n",
      "2                 4                 3                 4                4   \n",
      "3                 2                 5                 3                1   \n",
      "4                 3                 4                 4                3   \n",
      "\n",
      "   Inflight service  Cleanliness  Departure Delay in Minutes  \\\n",
      "0                 5            5                          25   \n",
      "1                 4            1                           1   \n",
      "2                 4            5                           0   \n",
      "3                 4            2                          11   \n",
      "4                 3            3                           0   \n",
      "\n",
      "   Arrival Delay in Minutes             satisfaction  \n",
      "0                      18.0  neutral or dissatisfied  \n",
      "1                       6.0  neutral or dissatisfied  \n",
      "2                       0.0                satisfied  \n",
      "3                       9.0  neutral or dissatisfied  \n",
      "4                       0.0                satisfied  \n",
      "\n",
      "[5 rows x 25 columns]\n"
     ]
    }
   ],
   "source": [
    "df_train = pd.read_csv(r\"E:\\Ruhuna\\Sem 07 10_02_2025\\Advanced AI\\Project\\Dataset\\train.csv\")\n",
    "df_test = pd.read_csv(r\"E:\\Ruhuna\\Sem 07 10_02_2025\\Advanced AI\\Project\\Dataset\\test.csv\")\n",
    "\n",
    "print(df_train.head())\n"
   ]
  },
  {
   "cell_type": "code",
   "execution_count": 4,
   "id": "ada2cbc5",
   "metadata": {},
   "outputs": [],
   "source": [
    "df_train.drop(columns=[\"Unnamed: 0\", \"id\"], inplace=True)"
   ]
  },
  {
   "cell_type": "code",
   "execution_count": 5,
   "id": "72fbf6c2",
   "metadata": {},
   "outputs": [
    {
     "name": "stdout",
     "output_type": "stream",
     "text": [
      "Gender                                 0\n",
      "Customer Type                          0\n",
      "Age                                    0\n",
      "Type of Travel                         0\n",
      "Class                                  0\n",
      "Flight Distance                        0\n",
      "Inflight wifi service                  0\n",
      "Departure/Arrival time convenient      0\n",
      "Ease of Online booking                 0\n",
      "Gate location                          0\n",
      "Food and drink                         0\n",
      "Online boarding                        0\n",
      "Seat comfort                           0\n",
      "Inflight entertainment                 0\n",
      "On-board service                       0\n",
      "Leg room service                       0\n",
      "Baggage handling                       0\n",
      "Checkin service                        0\n",
      "Inflight service                       0\n",
      "Cleanliness                            0\n",
      "Departure Delay in Minutes             0\n",
      "Arrival Delay in Minutes             310\n",
      "satisfaction                           0\n",
      "dtype: int64\n"
     ]
    }
   ],
   "source": [
    "# Check for null values\n",
    "print(df_train.isnull().sum())"
   ]
  },
  {
   "cell_type": "code",
   "execution_count": 6,
   "id": "b4d334e9",
   "metadata": {},
   "outputs": [],
   "source": [
    "#drop missing values\n",
    "df_train.dropna(inplace=True)\n"
   ]
  },
  {
   "cell_type": "code",
   "execution_count": 7,
   "id": "44cba5e8",
   "metadata": {},
   "outputs": [
    {
     "name": "stdout",
     "output_type": "stream",
     "text": [
      "   Gender      Customer Type  Age   Type of Travel     Class  Flight Distance  \\\n",
      "0    Male     Loyal Customer   13  Personal Travel  Eco Plus              460   \n",
      "1    Male  disloyal Customer   25  Business travel  Business              235   \n",
      "2  Female     Loyal Customer   26  Business travel  Business             1142   \n",
      "3  Female     Loyal Customer   25  Business travel  Business              562   \n",
      "4    Male     Loyal Customer   61  Business travel  Business              214   \n",
      "\n",
      "   Inflight wifi service  Departure/Arrival time convenient  \\\n",
      "0                      3                                  4   \n",
      "1                      3                                  2   \n",
      "2                      2                                  2   \n",
      "3                      2                                  5   \n",
      "4                      3                                  3   \n",
      "\n",
      "   Ease of Online booking  Gate location  ...  Inflight entertainment  \\\n",
      "0                       3              1  ...                       5   \n",
      "1                       3              3  ...                       1   \n",
      "2                       2              2  ...                       5   \n",
      "3                       5              5  ...                       2   \n",
      "4                       3              3  ...                       3   \n",
      "\n",
      "   On-board service  Leg room service  Baggage handling  Checkin service  \\\n",
      "0                 4                 3                 4                4   \n",
      "1                 1                 5                 3                1   \n",
      "2                 4                 3                 4                4   \n",
      "3                 2                 5                 3                1   \n",
      "4                 3                 4                 4                3   \n",
      "\n",
      "   Inflight service  Cleanliness  Departure Delay in Minutes  \\\n",
      "0                 5            5                          25   \n",
      "1                 4            1                           1   \n",
      "2                 4            5                           0   \n",
      "3                 4            2                          11   \n",
      "4                 3            3                           0   \n",
      "\n",
      "   Arrival Delay in Minutes             satisfaction  \n",
      "0                      18.0  neutral or dissatisfied  \n",
      "1                       6.0  neutral or dissatisfied  \n",
      "2                       0.0                satisfied  \n",
      "3                       9.0  neutral or dissatisfied  \n",
      "4                       0.0                satisfied  \n",
      "\n",
      "[5 rows x 23 columns]\n"
     ]
    }
   ],
   "source": [
    "print(df_train.head())"
   ]
  },
  {
   "cell_type": "markdown",
   "id": "71ee88ae",
   "metadata": {},
   "source": [
    "Encode the categorical variables"
   ]
  },
  {
   "cell_type": "code",
   "execution_count": 8,
   "id": "ea0ef56e",
   "metadata": {},
   "outputs": [
    {
     "name": "stdout",
     "output_type": "stream",
     "text": [
      "   Gender  Customer Type  Age  Type of Travel  Class  Flight Distance  \\\n",
      "0       1              0   13               1      2              460   \n",
      "1       1              1   25               0      0              235   \n",
      "2       0              0   26               0      0             1142   \n",
      "3       0              0   25               0      0              562   \n",
      "4       1              0   61               0      0              214   \n",
      "\n",
      "   Inflight wifi service  Departure/Arrival time convenient  \\\n",
      "0                      3                                  4   \n",
      "1                      3                                  2   \n",
      "2                      2                                  2   \n",
      "3                      2                                  5   \n",
      "4                      3                                  3   \n",
      "\n",
      "   Ease of Online booking  Gate location  ...  Inflight entertainment  \\\n",
      "0                       3              1  ...                       5   \n",
      "1                       3              3  ...                       1   \n",
      "2                       2              2  ...                       5   \n",
      "3                       5              5  ...                       2   \n",
      "4                       3              3  ...                       3   \n",
      "\n",
      "   On-board service  Leg room service  Baggage handling  Checkin service  \\\n",
      "0                 4                 3                 4                4   \n",
      "1                 1                 5                 3                1   \n",
      "2                 4                 3                 4                4   \n",
      "3                 2                 5                 3                1   \n",
      "4                 3                 4                 4                3   \n",
      "\n",
      "   Inflight service  Cleanliness  Departure Delay in Minutes  \\\n",
      "0                 5            5                          25   \n",
      "1                 4            1                           1   \n",
      "2                 4            5                           0   \n",
      "3                 4            2                          11   \n",
      "4                 3            3                           0   \n",
      "\n",
      "   Arrival Delay in Minutes  satisfaction  \n",
      "0                      18.0             0  \n",
      "1                       6.0             0  \n",
      "2                       0.0             1  \n",
      "3                       9.0             0  \n",
      "4                       0.0             1  \n",
      "\n",
      "[5 rows x 23 columns]\n"
     ]
    }
   ],
   "source": [
    "# List of columns to encode\n",
    "label_cols = ['Gender', 'Customer Type', 'Type of Travel', 'Class','satisfaction']\n",
    "\n",
    "# Encode each column\n",
    "for col in label_cols:\n",
    "    le = LabelEncoder()\n",
    "    df_train[col] = le.fit_transform(df_train[col])\n",
    "    \n",
    "\n",
    "print(df_train.head(5))\n",
    "    "
   ]
  },
  {
   "cell_type": "code",
   "execution_count": 9,
   "id": "95511d86",
   "metadata": {},
   "outputs": [],
   "source": [
    "# Generate synthetic complaint text\n",
    "\n",
    "def generate_complaint(row):\n",
    "    complaint = []\n",
    "    if row['Inflight wifi service'] <= 2:\n",
    "        complaint.append(\"wifi was slow\")\n",
    "    if row['Food and drink'] <= 2:\n",
    "        complaint.append(\"food was bad\")\n",
    "    if row['Departure/Arrival time convenient'] <= 2:\n",
    "        complaint.append(\"departure and arrival time slow\")\n",
    "    if row['Ease of Online booking'] <= 2:\n",
    "        complaint.append(\"online booking was difficult\")\n",
    "    if row['Seat comfort'] <= 2:\n",
    "        complaint.append(\"seat was uncomfortable\")\n",
    "    if row['Gate location'] <= 2:\n",
    "        complaint.append(\"gate location was bad\")\n",
    "    if row['Inflight entertainment'] <= 2:\n",
    "        complaint.append(\"inflight entertaintment was bad\")\n",
    "    if row['On-board service'] <= 2:\n",
    "        complaint.append(\"onboard service was poor\")\n",
    "    if row[\"Leg room service\"] <= 2:\n",
    "        complaint.append(\"leg room service was poor\")\n",
    "    if row['Baggage handling'] <= 2:\n",
    "        complaint.append(\"baggage handling was bad\")\n",
    "    if row['Checkin service'] <= 2:\n",
    "        complaint.append(\"checking service was poor\")\n",
    "    if row['Inflight service'] <= 2:\n",
    "        complaint.append(\"inflight service was unhelpful\")\n",
    "    if row['Cleanliness'] <= 2:\n",
    "        complaint.append(\"plane was not clean\")\n",
    "    return \" and \".join(complaint) if complaint else \"no complaint\"\n",
    "\n",
    "df_train['Complaint_Text'] = df_train.apply(generate_complaint, axis=1)\n"
   ]
  },
  {
   "cell_type": "code",
   "execution_count": 10,
   "id": "745832dd",
   "metadata": {},
   "outputs": [
    {
     "name": "stdout",
     "output_type": "stream",
     "text": [
      "Index(['Gender', 'Customer Type', 'Age', 'Type of Travel', 'Class',\n",
      "       'Flight Distance', 'Inflight wifi service',\n",
      "       'Departure/Arrival time convenient', 'Ease of Online booking',\n",
      "       'Gate location', 'Food and drink', 'Online boarding', 'Seat comfort',\n",
      "       'Inflight entertainment', 'On-board service', 'Leg room service',\n",
      "       'Baggage handling', 'Checkin service', 'Inflight service',\n",
      "       'Cleanliness', 'Departure Delay in Minutes', 'Arrival Delay in Minutes',\n",
      "       'satisfaction', 'Complaint_Text'],\n",
      "      dtype='object')\n"
     ]
    }
   ],
   "source": [
    "print(df_train.columns)"
   ]
  },
  {
   "cell_type": "code",
   "execution_count": 11,
   "id": "2bef0a8a",
   "metadata": {},
   "outputs": [
    {
     "name": "stderr",
     "output_type": "stream",
     "text": [
      "[nltk_data] Downloading package stopwords to\n",
      "[nltk_data]     C:\\Users\\ASUS\\AppData\\Roaming\\nltk_data...\n",
      "[nltk_data]   Package stopwords is already up-to-date!\n",
      "[nltk_data] Downloading package wordnet to\n",
      "[nltk_data]     C:\\Users\\ASUS\\AppData\\Roaming\\nltk_data...\n",
      "[nltk_data]   Package wordnet is already up-to-date!\n"
     ]
    },
    {
     "data": {
      "text/plain": [
       "True"
      ]
     },
     "execution_count": 11,
     "metadata": {},
     "output_type": "execute_result"
    }
   ],
   "source": [
    "nltk.download('stopwords')\n",
    "nltk.download('wordnet')\n"
   ]
  },
  {
   "cell_type": "code",
   "execution_count": 12,
   "id": "f6fc2f85",
   "metadata": {},
   "outputs": [],
   "source": [
    "def clean_text(text):\n",
    "    text = re.sub(r\"[^a-zA-Z]\", \" \", text.lower())\n",
    "    lemmatizer = WordNetLemmatizer()\n",
    "    words = text.split()\n",
    "    stop_words = set(stopwords.words('english'))\n",
    "    cleaned = [lemmatizer.lemmatize(word) for word in words if word not in stop_words]\n",
    "    return \" \".join(cleaned)\n",
    "\n",
    "df_train[\"Cleaned_Text\"] = df_train[\"Complaint_Text\"].apply(clean_text)"
   ]
  },
  {
   "cell_type": "code",
   "execution_count": 13,
   "id": "8af36f8a",
   "metadata": {},
   "outputs": [],
   "source": [
    "# Split the data into features and target\n",
    "\n",
    "X = df_train.drop(columns=['satisfaction'])\n",
    "y = df_train['satisfaction']"
   ]
  },
  {
   "cell_type": "code",
   "execution_count": 14,
   "id": "6700aba9",
   "metadata": {},
   "outputs": [],
   "source": [
    "# Split the data into training and testing\n",
    "\n",
    "from sklearn.model_selection import train_test_split\n",
    "\n",
    "X_train, X_test, y_train, y_test = train_test_split(X, y, test_size=0.2, random_state=42)\n"
   ]
  },
  {
   "cell_type": "markdown",
   "id": "82440fa4",
   "metadata": {},
   "source": [
    "Model Training"
   ]
  },
  {
   "cell_type": "code",
   "execution_count": null,
   "id": "631dcb48",
   "metadata": {},
   "outputs": [],
   "source": [
    "from sklearn.ensemble import RandomForestClassifier\n",
    "from sklearn.metrics import classification_report"
   ]
  }
 ],
 "metadata": {
  "kernelspec": {
   "display_name": "Python 3",
   "language": "python",
   "name": "python3"
  },
  "language_info": {
   "codemirror_mode": {
    "name": "ipython",
    "version": 3
   },
   "file_extension": ".py",
   "mimetype": "text/x-python",
   "name": "python",
   "nbconvert_exporter": "python",
   "pygments_lexer": "ipython3",
   "version": "3.12.0"
  }
 },
 "nbformat": 4,
 "nbformat_minor": 5
}
